{
 "cells": [
  {
   "cell_type": "code",
   "execution_count": 1,
   "metadata": {},
   "outputs": [],
   "source": [
    "import numpy as np"
   ]
  },
  {
   "cell_type": "code",
   "execution_count": 6,
   "metadata": {},
   "outputs": [
    {
     "name": "stdout",
     "output_type": "stream",
     "text": [
      "[[[[['dimensión' 'cinco']\n",
      "    ['dimensión' 'cuatro']]]]]\n",
      "[['dimensión' 'cinco']\n",
      " ['dimensión' 'cuatro']] 2\n"
     ]
    }
   ],
   "source": [
    "tensor = np.array([ [[[ ['dimensión','cinco'],['dimensión', 'cuatro'] ]]] ])\n",
    "print(tensor)\n",
    "tensor_2 = np.squeeze(tensor)\n",
    "print(tensor_2, tensor_2.ndim)\n"
   ]
  },
  {
   "cell_type": "code",
   "execution_count": 7,
   "metadata": {},
   "outputs": [
    {
     "name": "stdout",
     "output_type": "stream",
     "text": [
      "[[['dimensión' 'cinco']\n",
      "  ['dimensión' 'cuatro']]] 3\n"
     ]
    }
   ],
   "source": [
    "tensor_3 = np.expand_dims(tensor_2, axis=0)\n",
    "print(tensor_3, tensor_3.ndim)"
   ]
  },
  {
   "cell_type": "code",
   "execution_count": null,
   "metadata": {},
   "outputs": [],
   "source": []
  }
 ],
 "metadata": {
  "kernelspec": {
   "display_name": "Python 3.11.0 64-bit",
   "language": "python",
   "name": "python3"
  },
  "language_info": {
   "codemirror_mode": {
    "name": "ipython",
    "version": 3
   },
   "file_extension": ".py",
   "mimetype": "text/x-python",
   "name": "python",
   "nbconvert_exporter": "python",
   "pygments_lexer": "ipython3",
   "version": "3.11.0"
  },
  "orig_nbformat": 4,
  "vscode": {
   "interpreter": {
    "hash": "c261aea317cc0286b3b3261fbba9abdec21eaa57589985bb7a274bf54d6cc0a7"
   }
  }
 },
 "nbformat": 4,
 "nbformat_minor": 2
}
